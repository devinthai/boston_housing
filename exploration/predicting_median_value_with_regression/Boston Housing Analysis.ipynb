{
 "cells": [
  {
   "cell_type": "markdown",
   "metadata": {},
   "source": [
    "# Predicting Median House Value with Regression\n",
    "\n",
    "**Author**: Devin Thai (devin.thai.5@gmail.com)\n",
    "\n",
    "## Introduction\n",
    "Today, we are going to be looking at the Boston Housing dataset, available [here](https://www.kaggle.com/c/boston-housing). Our goal is not to achieve a high score, but to explore the data and insight workflow. With that being said, today's learning method of choice will be **Linear Regression**. This is because Linear Regression is perfect for predicting quantitative values such as the **median value of homes** and is one of the more interpretable machine learning methods.\n",
    "\n",
    "Now, let's take care of some quick housekeeping."
   ]
  },
  {
   "cell_type": "code",
   "execution_count": 1,
   "metadata": {},
   "outputs": [],
   "source": [
    "import sys\n",
    "import numpy as np\n",
    "import pandas as pd\n",
    "import matplotlib.pyplot as plt\n",
    "%matplotlib inline\n",
    "from sklearn import preprocessing\n",
    "from sklearn.linear_model import Lasso\n",
    "from sklearn.model_selection import train_test_split\n",
    "from sklearn.linear_model import LinearRegression\n",
    "import warnings\n",
    "warnings.filterwarnings('ignore')\n",
    "import logging\n",
    "logging.basicConfig(format='%(message)s', level=logging.INFO, stream=sys.stdout)\n",
    "from boston_housing import data\n",
    "from boston_housing import model"
   ]
  },
  {
   "cell_type": "markdown",
   "metadata": {},
   "source": [
    "We can now use pandas to import the dataset."
   ]
  },
  {
   "cell_type": "code",
   "execution_count": 2,
   "metadata": {},
   "outputs": [],
   "source": [
    "df = pd.read_csv(\"/Volumes/2 TB Storage/datascience/boston_housing/exploration/data/train.csv\")"
   ]
  },
  {
   "cell_type": "markdown",
   "metadata": {},
   "source": [
    "Let's take a look at the variables we will be dealing with."
   ]
  },
  {
   "cell_type": "code",
   "execution_count": 3,
   "metadata": {},
   "outputs": [
    {
     "data": {
      "text/html": [
       "<div>\n",
       "<style scoped>\n",
       "    .dataframe tbody tr th:only-of-type {\n",
       "        vertical-align: middle;\n",
       "    }\n",
       "\n",
       "    .dataframe tbody tr th {\n",
       "        vertical-align: top;\n",
       "    }\n",
       "\n",
       "    .dataframe thead th {\n",
       "        text-align: right;\n",
       "    }\n",
       "</style>\n",
       "<table border=\"1\" class=\"dataframe\">\n",
       "  <thead>\n",
       "    <tr style=\"text-align: right;\">\n",
       "      <th></th>\n",
       "      <th>ID</th>\n",
       "      <th>crim</th>\n",
       "      <th>zn</th>\n",
       "      <th>indus</th>\n",
       "      <th>chas</th>\n",
       "      <th>nox</th>\n",
       "      <th>rm</th>\n",
       "      <th>age</th>\n",
       "      <th>dis</th>\n",
       "      <th>rad</th>\n",
       "      <th>tax</th>\n",
       "      <th>ptratio</th>\n",
       "      <th>black</th>\n",
       "      <th>lstat</th>\n",
       "      <th>medv</th>\n",
       "    </tr>\n",
       "  </thead>\n",
       "  <tbody>\n",
       "    <tr>\n",
       "      <th>0</th>\n",
       "      <td>1</td>\n",
       "      <td>0.00632</td>\n",
       "      <td>18.0</td>\n",
       "      <td>2.31</td>\n",
       "      <td>0</td>\n",
       "      <td>0.538</td>\n",
       "      <td>6.575</td>\n",
       "      <td>65.2</td>\n",
       "      <td>4.0900</td>\n",
       "      <td>1</td>\n",
       "      <td>296</td>\n",
       "      <td>15.3</td>\n",
       "      <td>396.90</td>\n",
       "      <td>4.98</td>\n",
       "      <td>24.0</td>\n",
       "    </tr>\n",
       "    <tr>\n",
       "      <th>1</th>\n",
       "      <td>2</td>\n",
       "      <td>0.02731</td>\n",
       "      <td>0.0</td>\n",
       "      <td>7.07</td>\n",
       "      <td>0</td>\n",
       "      <td>0.469</td>\n",
       "      <td>6.421</td>\n",
       "      <td>78.9</td>\n",
       "      <td>4.9671</td>\n",
       "      <td>2</td>\n",
       "      <td>242</td>\n",
       "      <td>17.8</td>\n",
       "      <td>396.90</td>\n",
       "      <td>9.14</td>\n",
       "      <td>21.6</td>\n",
       "    </tr>\n",
       "    <tr>\n",
       "      <th>2</th>\n",
       "      <td>4</td>\n",
       "      <td>0.03237</td>\n",
       "      <td>0.0</td>\n",
       "      <td>2.18</td>\n",
       "      <td>0</td>\n",
       "      <td>0.458</td>\n",
       "      <td>6.998</td>\n",
       "      <td>45.8</td>\n",
       "      <td>6.0622</td>\n",
       "      <td>3</td>\n",
       "      <td>222</td>\n",
       "      <td>18.7</td>\n",
       "      <td>394.63</td>\n",
       "      <td>2.94</td>\n",
       "      <td>33.4</td>\n",
       "    </tr>\n",
       "    <tr>\n",
       "      <th>3</th>\n",
       "      <td>5</td>\n",
       "      <td>0.06905</td>\n",
       "      <td>0.0</td>\n",
       "      <td>2.18</td>\n",
       "      <td>0</td>\n",
       "      <td>0.458</td>\n",
       "      <td>7.147</td>\n",
       "      <td>54.2</td>\n",
       "      <td>6.0622</td>\n",
       "      <td>3</td>\n",
       "      <td>222</td>\n",
       "      <td>18.7</td>\n",
       "      <td>396.90</td>\n",
       "      <td>5.33</td>\n",
       "      <td>36.2</td>\n",
       "    </tr>\n",
       "    <tr>\n",
       "      <th>4</th>\n",
       "      <td>7</td>\n",
       "      <td>0.08829</td>\n",
       "      <td>12.5</td>\n",
       "      <td>7.87</td>\n",
       "      <td>0</td>\n",
       "      <td>0.524</td>\n",
       "      <td>6.012</td>\n",
       "      <td>66.6</td>\n",
       "      <td>5.5605</td>\n",
       "      <td>5</td>\n",
       "      <td>311</td>\n",
       "      <td>15.2</td>\n",
       "      <td>395.60</td>\n",
       "      <td>12.43</td>\n",
       "      <td>22.9</td>\n",
       "    </tr>\n",
       "  </tbody>\n",
       "</table>\n",
       "</div>"
      ],
      "text/plain": [
       "   ID     crim    zn  indus  chas    nox     rm   age     dis  rad  tax  \\\n",
       "0   1  0.00632  18.0   2.31     0  0.538  6.575  65.2  4.0900    1  296   \n",
       "1   2  0.02731   0.0   7.07     0  0.469  6.421  78.9  4.9671    2  242   \n",
       "2   4  0.03237   0.0   2.18     0  0.458  6.998  45.8  6.0622    3  222   \n",
       "3   5  0.06905   0.0   2.18     0  0.458  7.147  54.2  6.0622    3  222   \n",
       "4   7  0.08829  12.5   7.87     0  0.524  6.012  66.6  5.5605    5  311   \n",
       "\n",
       "   ptratio   black  lstat  medv  \n",
       "0     15.3  396.90   4.98  24.0  \n",
       "1     17.8  396.90   9.14  21.6  \n",
       "2     18.7  394.63   2.94  33.4  \n",
       "3     18.7  396.90   5.33  36.2  \n",
       "4     15.2  395.60  12.43  22.9  "
      ]
     },
     "execution_count": 3,
     "metadata": {},
     "output_type": "execute_result"
    }
   ],
   "source": [
    "df.head()"
   ]
  },
  {
   "cell_type": "markdown",
   "metadata": {},
   "source": [
    "\"medv\" is the median value of owner-occupied homes in thousands of dollars. in a particular area. This is our \"target\" variable, the value that we want to predict using the other variables.\n",
    "\n",
    "\"ID\" is simply an identification number. This will be removed from our set of variables as it does not provide any useful information about the houses in their respective areas.\n",
    "\n",
    "\"crim\" is the per capita crime rate by town.\n",
    "\n",
    "\"zn\" is the proportion of residential land zoned for lots over 25,000 sq. ft.\n",
    "\n",
    "\"indus\" is proportion of non-retail business acres per town.\n",
    "\n",
    "\"chas\" is a Charles River dummy variable. A dummy variable is a variable whose value represents whether or not something is happening. In this case, \"chas\"' value is 1 if the Charles River bounds the tract/area around the homes and 0 if not.\n",
    "\n",
    "\"nox\" is the nitrogen dioxide concentration in parts per 10 million. This is likely an indicator of pollution in the area.\n",
    "\n",
    "\"rm\" is the average number of rooms per home.\n",
    "\n",
    "\"age\" is actually proportion of owner-occupied units built prior to 1940. It is **not** the average age of homes.\n",
    "\n",
    "\"dis\" is a weighted mean of distances to five of Boston employment centers.\n",
    "\n",
    "\"rad\" is an index of accessibility to radial highways. Because this is an index, its values most likely represent groupings instead of some numerical quantity. We will check for this soon and convert \"rad\" into a dummy variable if necessary.\n",
    "\n",
    "\"tax\" is the full-value property-tax rate per $10,000.\n",
    "\n",
    "\"ptratio\" is the student to teacher ratio by town.\n",
    "\n",
    "\"black\" is calculated using the formula 1000(Bk - 0.63)^2, where Bk is the proportion of blacks by town. This is not a very ethical use of data, so we will be leaving this variable out of our predictor variables.\n",
    "\n",
    "\"lstat\" is lower status of the population (percent). This is basically a measure of poverty."
   ]
  },
  {
   "cell_type": "code",
   "execution_count": 4,
   "metadata": {},
   "outputs": [],
   "source": [
    "df = df.drop(['black', 'ID'], axis = 1)"
   ]
  },
  {
   "cell_type": "markdown",
   "metadata": {},
   "source": [
    "## More Housekeeping\n",
    "Before we can start doing any analysis, we have to verify a few more things about our data.\n",
    "\n",
    "First, we check for missing data."
   ]
  },
  {
   "cell_type": "code",
   "execution_count": 5,
   "metadata": {},
   "outputs": [
    {
     "data": {
      "text/plain": [
       "crim       0\n",
       "zn         0\n",
       "indus      0\n",
       "chas       0\n",
       "nox        0\n",
       "rm         0\n",
       "age        0\n",
       "dis        0\n",
       "rad        0\n",
       "tax        0\n",
       "ptratio    0\n",
       "lstat      0\n",
       "medv       0\n",
       "dtype: int64"
      ]
     },
     "execution_count": 5,
     "metadata": {},
     "output_type": "execute_result"
    }
   ],
   "source": [
    "df.isna().sum()"
   ]
  },
  {
   "cell_type": "markdown",
   "metadata": {},
   "source": [
    "It is important to make sure that none of our data has missing entries. Our data manipulation package, pandas, handles missing data as if they were 0's. This leads to inaccurate/skewed predictions if left untreated. Normally we have come up with a way to \"impute\", or fill in, these missing values before moving on, however, none of our variables are missing any entries.\n",
    "\n",
    "Next, we have to make sure our variables are in suitable types."
   ]
  },
  {
   "cell_type": "code",
   "execution_count": 6,
   "metadata": {},
   "outputs": [
    {
     "name": "stdout",
     "output_type": "stream",
     "text": [
      "<class 'pandas.core.frame.DataFrame'>\n",
      "RangeIndex: 333 entries, 0 to 332\n",
      "Data columns (total 13 columns):\n",
      "crim       333 non-null float64\n",
      "zn         333 non-null float64\n",
      "indus      333 non-null float64\n",
      "chas       333 non-null int64\n",
      "nox        333 non-null float64\n",
      "rm         333 non-null float64\n",
      "age        333 non-null float64\n",
      "dis        333 non-null float64\n",
      "rad        333 non-null int64\n",
      "tax        333 non-null int64\n",
      "ptratio    333 non-null float64\n",
      "lstat      333 non-null float64\n",
      "medv       333 non-null float64\n",
      "dtypes: float64(10), int64(3)\n",
      "memory usage: 33.9 KB\n"
     ]
    }
   ],
   "source": [
    "df.info()"
   ]
  },
  {
   "cell_type": "code",
   "execution_count": 7,
   "metadata": {},
   "outputs": [
    {
     "data": {
      "text/plain": [
       "array([0, 1])"
      ]
     },
     "execution_count": 7,
     "metadata": {},
     "output_type": "execute_result"
    }
   ],
   "source": [
    "df['chas'].unique()"
   ]
  },
  {
   "cell_type": "markdown",
   "metadata": {},
   "source": [
    "Recall that \"chas\" is supposed to be a dummy variable. That means its values must be 0 or 1, which is true in this case, so we will not have to make any changes to \"chas\".\n",
    "\n",
    "We previously pointed out that \"rad\" is an index and might need to be converted to a series of dummy variables. To check this, we will look at what unique values \"rad\" contains."
   ]
  },
  {
   "cell_type": "code",
   "execution_count": 8,
   "metadata": {},
   "outputs": [
    {
     "data": {
      "text/plain": [
       "array([ 1,  2,  3,  5,  4,  8,  6,  7, 24])"
      ]
     },
     "execution_count": 8,
     "metadata": {},
     "output_type": "execute_result"
    }
   ],
   "source": [
    "df['rad'].unique()"
   ]
  },
  {
   "cell_type": "markdown",
   "metadata": {},
   "source": [
    "Notice that \"rad\" does not have very many unique values. These values are indices that indicate accessibility to radial highways. Each area with the same \"rad\" value has the same level of accessibility, so each index should be treated as its own group. We can achieve this by creating a series of dummy variables to represent each index."
   ]
  },
  {
   "cell_type": "code",
   "execution_count": 9,
   "metadata": {},
   "outputs": [],
   "source": [
    "df['rad'] = df['rad'].astype('category')\n",
    "rad_dummies = pd.get_dummies(df['rad'])\n",
    "df = df.drop('rad',axis = 1)"
   ]
  },
  {
   "cell_type": "code",
   "execution_count": 10,
   "metadata": {},
   "outputs": [
    {
     "data": {
      "text/html": [
       "<div>\n",
       "<style scoped>\n",
       "    .dataframe tbody tr th:only-of-type {\n",
       "        vertical-align: middle;\n",
       "    }\n",
       "\n",
       "    .dataframe tbody tr th {\n",
       "        vertical-align: top;\n",
       "    }\n",
       "\n",
       "    .dataframe thead th {\n",
       "        text-align: right;\n",
       "    }\n",
       "</style>\n",
       "<table border=\"1\" class=\"dataframe\">\n",
       "  <thead>\n",
       "    <tr style=\"text-align: right;\">\n",
       "      <th></th>\n",
       "      <th>1</th>\n",
       "      <th>2</th>\n",
       "      <th>3</th>\n",
       "      <th>4</th>\n",
       "      <th>5</th>\n",
       "      <th>6</th>\n",
       "      <th>7</th>\n",
       "      <th>8</th>\n",
       "      <th>24</th>\n",
       "    </tr>\n",
       "  </thead>\n",
       "  <tbody>\n",
       "    <tr>\n",
       "      <th>0</th>\n",
       "      <td>1</td>\n",
       "      <td>0</td>\n",
       "      <td>0</td>\n",
       "      <td>0</td>\n",
       "      <td>0</td>\n",
       "      <td>0</td>\n",
       "      <td>0</td>\n",
       "      <td>0</td>\n",
       "      <td>0</td>\n",
       "    </tr>\n",
       "    <tr>\n",
       "      <th>1</th>\n",
       "      <td>0</td>\n",
       "      <td>1</td>\n",
       "      <td>0</td>\n",
       "      <td>0</td>\n",
       "      <td>0</td>\n",
       "      <td>0</td>\n",
       "      <td>0</td>\n",
       "      <td>0</td>\n",
       "      <td>0</td>\n",
       "    </tr>\n",
       "    <tr>\n",
       "      <th>2</th>\n",
       "      <td>0</td>\n",
       "      <td>0</td>\n",
       "      <td>1</td>\n",
       "      <td>0</td>\n",
       "      <td>0</td>\n",
       "      <td>0</td>\n",
       "      <td>0</td>\n",
       "      <td>0</td>\n",
       "      <td>0</td>\n",
       "    </tr>\n",
       "    <tr>\n",
       "      <th>3</th>\n",
       "      <td>0</td>\n",
       "      <td>0</td>\n",
       "      <td>1</td>\n",
       "      <td>0</td>\n",
       "      <td>0</td>\n",
       "      <td>0</td>\n",
       "      <td>0</td>\n",
       "      <td>0</td>\n",
       "      <td>0</td>\n",
       "    </tr>\n",
       "    <tr>\n",
       "      <th>4</th>\n",
       "      <td>0</td>\n",
       "      <td>0</td>\n",
       "      <td>0</td>\n",
       "      <td>0</td>\n",
       "      <td>1</td>\n",
       "      <td>0</td>\n",
       "      <td>0</td>\n",
       "      <td>0</td>\n",
       "      <td>0</td>\n",
       "    </tr>\n",
       "  </tbody>\n",
       "</table>\n",
       "</div>"
      ],
      "text/plain": [
       "   1   2   3   4   5   6   7   8   24\n",
       "0   1   0   0   0   0   0   0   0   0\n",
       "1   0   1   0   0   0   0   0   0   0\n",
       "2   0   0   1   0   0   0   0   0   0\n",
       "3   0   0   1   0   0   0   0   0   0\n",
       "4   0   0   0   0   1   0   0   0   0"
      ]
     },
     "execution_count": 10,
     "metadata": {},
     "output_type": "execute_result"
    }
   ],
   "source": [
    "rad_dummies.head()"
   ]
  },
  {
   "cell_type": "markdown",
   "metadata": {},
   "source": [
    "Let us elaborate more on the meaning of our dummy variables. Notice in the above table that the \"0\" entry has a value of 1 under 1 and 0 everywhere else. This means that \"0\" belongs in group 1 and not in any of the others. Similarly, \"1\" is a member of group 2 and not any of the others. Next, \"2\" is a member of group 3 and so on.\n",
    "\n",
    "Next, we need to check the distributions of our variables. We do this by looking at histograms of our variables."
   ]
  },
  {
   "cell_type": "code",
   "execution_count": 11,
   "metadata": {},
   "outputs": [
    {
     "data": {
      "text/plain": [
       "0"
      ]
     },
     "execution_count": 11,
     "metadata": {},
     "output_type": "execute_result"
    },
    {
     "data": {
      "image/png": "[encoded data removed]",
      "text/plain": [
       "<Figure size 720x648 with 10 Axes>"
      ]
     },
     "metadata": {
      "needs_background": "light"
     },
     "output_type": "display_data"
    }
   ],
   "source": [
    "data.distmap(df)"
   ]
  },
  {
   "cell_type": "markdown",
   "metadata": {},
   "source": [
    "We are looking at the horizontal axes of these histograms. Notice that the ranges of our data vary significantly. This is important because it is difficult to compare values of different variables with different ranges. For example, let's look at a value of 25 in the context of both the \"zn\" and \"indus\" variables. At a purely quantitative level, 25 is equal to 25. However it is not that simple. 25 is on the lower end of \"zn\"'s range whereas 25 is on the upper end of \"indus\"' range. We have to reconcile this information in our analysis. In order to do so, we are going to \"scale\" our variables by mapping each point into the \"standard normal\" distribution. That is done with the following formula:\n",
    "\n",
    "$Z = \\frac{X-\\mu}{\\sigma}$, where Z is the the value in the standard normal distribution, $\\mu$ is the average value of a given variable, X is the particular value of the variable, and $\\sigma$ is the standard deviation of the variable.\n",
    "\n",
    "Each of the Z values represents information about the original value's distance from the mean/average value of the variable. When we compare Z values, we are comparing relative distances rather than magnitudes, making comparisons more meaningful. This should also bring each of the variables' respective ranges closer together. This makes it much easier to compare values across variables."
   ]
  },
  {
   "cell_type": "code",
   "execution_count": 12,
   "metadata": {},
   "outputs": [],
   "source": [
    "features = data.scaler(df)"
   ]
  },
  {
   "cell_type": "code",
   "execution_count": 13,
   "metadata": {},
   "outputs": [
    {
     "data": {
      "text/plain": [
       "0"
      ]
     },
     "execution_count": 13,
     "metadata": {},
     "output_type": "execute_result"
    },
    {
     "data": {
      "image/png": "[encoded data removed]",
      "text/plain": [
       "<Figure size 720x648 with 10 Axes>"
      ]
     },
     "metadata": {
      "needs_background": "light"
     },
     "output_type": "display_data"
    }
   ],
   "source": [
    "data.distmap(features)"
   ]
  },
  {
   "cell_type": "markdown",
   "metadata": {},
   "source": [
    "As we can see, all of the ranges have become much closer in scale.\n",
    "\n",
    "Now that we've taken care of all of this, we can add our dummy variables to our data and move on."
   ]
  },
  {
   "cell_type": "code",
   "execution_count": 14,
   "metadata": {},
   "outputs": [],
   "source": [
    "scaled_feats = features.drop('medv', axis = 1)\n",
    "chas_medv = df.drop(scaled_feats.columns, axis = 1)\n",
    "\n",
    "features = pd.concat([scaled_feats, chas_medv, rad_dummies], axis = 1)"
   ]
  },
  {
   "cell_type": "markdown",
   "metadata": {},
   "source": [
    "## Checking for Multicolinearity\n",
    "\n",
    "Now we need to look at the interactions between our variables. This is important because we want to include as little redundant information as possible. Removing redundant information simplifies our model and makes it more generalizable."
   ]
  },
  {
   "cell_type": "code",
   "execution_count": 15,
   "metadata": {},
   "outputs": [
    {
     "data": {
      "text/html": [
       "<div>\n",
       "<style scoped>\n",
       "    .dataframe tbody tr th:only-of-type {\n",
       "        vertical-align: middle;\n",
       "    }\n",
       "\n",
       "    .dataframe tbody tr th {\n",
       "        vertical-align: top;\n",
       "    }\n",
       "\n",
       "    .dataframe thead th {\n",
       "        text-align: right;\n",
       "    }\n",
       "</style>\n",
       "<table border=\"1\" class=\"dataframe\">\n",
       "  <thead>\n",
       "    <tr style=\"text-align: right;\">\n",
       "      <th></th>\n",
       "      <th></th>\n",
       "      <th>Correlation</th>\n",
       "      <th>Tolerance</th>\n",
       "      <th>VIF</th>\n",
       "    </tr>\n",
       "  </thead>\n",
       "  <tbody>\n",
       "    <tr>\n",
       "      <th>tax</th>\n",
       "      <th>24</th>\n",
       "      <td>0.901940</td>\n",
       "      <td>0.186504</td>\n",
       "      <td>5.361811</td>\n",
       "    </tr>\n",
       "    <tr>\n",
       "      <th>nox</th>\n",
       "      <th>dis</th>\n",
       "      <td>0.769364</td>\n",
       "      <td>0.408079</td>\n",
       "      <td>2.450507</td>\n",
       "    </tr>\n",
       "    <tr>\n",
       "      <th>age</th>\n",
       "      <th>dis</th>\n",
       "      <td>0.764208</td>\n",
       "      <td>0.415987</td>\n",
       "      <td>2.403923</td>\n",
       "    </tr>\n",
       "    <tr>\n",
       "      <th>indus</th>\n",
       "      <th>nox</th>\n",
       "      <td>0.750087</td>\n",
       "      <td>0.437369</td>\n",
       "      <td>2.286400</td>\n",
       "    </tr>\n",
       "    <tr>\n",
       "      <th>lstat</th>\n",
       "      <th>medv</th>\n",
       "      <td>0.738600</td>\n",
       "      <td>0.454470</td>\n",
       "      <td>2.200365</td>\n",
       "    </tr>\n",
       "    <tr>\n",
       "      <th>nox</th>\n",
       "      <th>age</th>\n",
       "      <td>0.736000</td>\n",
       "      <td>0.458305</td>\n",
       "      <td>2.181955</td>\n",
       "    </tr>\n",
       "    <tr>\n",
       "      <th rowspan=\"2\" valign=\"top\">indus</th>\n",
       "      <th>tax</th>\n",
       "      <td>0.708313</td>\n",
       "      <td>0.498292</td>\n",
       "      <td>2.006854</td>\n",
       "    </tr>\n",
       "    <tr>\n",
       "      <th>dis</th>\n",
       "      <td>0.702327</td>\n",
       "      <td>0.506737</td>\n",
       "      <td>1.973411</td>\n",
       "    </tr>\n",
       "    <tr>\n",
       "      <th>rm</th>\n",
       "      <th>medv</th>\n",
       "      <td>0.689598</td>\n",
       "      <td>0.524454</td>\n",
       "      <td>1.906743</td>\n",
       "    </tr>\n",
       "    <tr>\n",
       "      <th>crim</th>\n",
       "      <th>24</th>\n",
       "      <td>0.674004</td>\n",
       "      <td>0.545718</td>\n",
       "      <td>1.832448</td>\n",
       "    </tr>\n",
       "    <tr>\n",
       "      <th>nox</th>\n",
       "      <th>tax</th>\n",
       "      <td>0.670722</td>\n",
       "      <td>0.550131</td>\n",
       "      <td>1.817747</td>\n",
       "    </tr>\n",
       "  </tbody>\n",
       "</table>\n",
       "</div>"
      ],
      "text/plain": [
       "            Correlation  Tolerance       VIF\n",
       "tax   24       0.901940   0.186504  5.361811\n",
       "nox   dis      0.769364   0.408079  2.450507\n",
       "age   dis      0.764208   0.415987  2.403923\n",
       "indus nox      0.750087   0.437369  2.286400\n",
       "lstat medv     0.738600   0.454470  2.200365\n",
       "nox   age      0.736000   0.458305  2.181955\n",
       "indus tax      0.708313   0.498292  2.006854\n",
       "      dis      0.702327   0.506737  1.973411\n",
       "rm    medv     0.689598   0.524454  1.906743\n",
       "crim  24       0.674004   0.545718  1.832448\n",
       "nox   tax      0.670722   0.550131  1.817747"
      ]
     },
     "execution_count": 15,
     "metadata": {},
     "output_type": "execute_result"
    }
   ],
   "source": [
    "data.tol_vif_table(features, n = 11)"
   ]
  },
  {
   "cell_type": "markdown",
   "metadata": {},
   "source": [
    "These are the top 11 pairs of variables along with their correlation, tolerance, and VIF (Variance Inflation Factor) values.\n",
    "\n",
    "Correlation is a measure of what proportion of variance in one variable can be explained by the variance in the other variable. In other words, how much information in one variable can be adequately represented by another variable. This is what we mean when we talk about redundant information. If one variable can explain most of the information provided by another variable, it is reasonable to just get rid of the extraneous variable.\n",
    "\n",
    "Tolerance is calculated using the formula:\n",
    "Tolerance = $1-r^{2}$, where r is the correlation value. Tolerance < 0.1 tends to indicate problematic relationships.\n",
    "\n",
    "VIF is calculated using the formula:\n",
    "VIF = $\\frac{1}{\\text{Tolerance}}$. Similarly, VIF > 10 tends to be problematic\n",
    "\n",
    "Using the guidelines specified, we do not have to worry about colinearity between our variables."
   ]
  },
  {
   "cell_type": "markdown",
   "metadata": {},
   "source": [
    "## Dimensionality Reduction\n",
    "\n",
    "Dimensionality reduction is another way in which we can simplify our model. As previously mentioned, we can look at the interactions between our variables to see if there are any we can get rid of. Now we can compare model performance and model complexity to simplify our model. To do this, we are going to be using another form of regression called LASSO."
   ]
  },
  {
   "cell_type": "code",
   "execution_count": 16,
   "metadata": {},
   "outputs": [
    {
     "data": {
      "text/html": [
       "<div>\n",
       "<style scoped>\n",
       "    .dataframe tbody tr th:only-of-type {\n",
       "        vertical-align: middle;\n",
       "    }\n",
       "\n",
       "    .dataframe tbody tr th {\n",
       "        vertical-align: top;\n",
       "    }\n",
       "\n",
       "    .dataframe thead th {\n",
       "        text-align: right;\n",
       "    }\n",
       "</style>\n",
       "<table border=\"1\" class=\"dataframe\">\n",
       "  <thead>\n",
       "    <tr style=\"text-align: right;\">\n",
       "      <th></th>\n",
       "      <th>Used Features</th>\n",
       "      <th>Training Score</th>\n",
       "      <th>Test Score</th>\n",
       "    </tr>\n",
       "  </thead>\n",
       "  <tbody>\n",
       "    <tr>\n",
       "      <th>1</th>\n",
       "      <td>3</td>\n",
       "      <td>0.630353</td>\n",
       "      <td>0.649038</td>\n",
       "    </tr>\n",
       "    <tr>\n",
       "      <th>0.1</th>\n",
       "      <td>15</td>\n",
       "      <td>0.708203</td>\n",
       "      <td>0.725419</td>\n",
       "    </tr>\n",
       "    <tr>\n",
       "      <th>0.01</th>\n",
       "      <td>19</td>\n",
       "      <td>0.736713</td>\n",
       "      <td>0.724902</td>\n",
       "    </tr>\n",
       "    <tr>\n",
       "      <th>0.001</th>\n",
       "      <td>19</td>\n",
       "      <td>0.737105</td>\n",
       "      <td>0.721835</td>\n",
       "    </tr>\n",
       "  </tbody>\n",
       "</table>\n",
       "</div>"
      ],
      "text/plain": [
       "       Used Features  Training Score  Test Score\n",
       "1                  3        0.630353    0.649038\n",
       "0.1               15        0.708203    0.725419\n",
       "0.01              19        0.736713    0.724902\n",
       "0.001             19        0.737105    0.721835"
      ]
     },
     "execution_count": 16,
     "metadata": {},
     "output_type": "execute_result"
    }
   ],
   "source": [
    "data.lasso_reduction(features)"
   ]
  },
  {
   "cell_type": "markdown",
   "metadata": {},
   "source": [
    "Judging by the graph, 15 seems to be the optimal amount of features to use. This is because when we use 19 features, the training and test scores are pretty similar, but we have to use 4 additional features. More features means greater odds that the model will overfit and generalize less accurately. So, we will consider just using the features from the 0.1 LASSO regression."
   ]
  },
  {
   "cell_type": "code",
   "execution_count": 17,
   "metadata": {},
   "outputs": [],
   "source": [
    "lasso01_feats = data.get_lasso_coef(features, 0.1)"
   ]
  },
  {
   "cell_type": "markdown",
   "metadata": {},
   "source": [
    "## Model Creation\n",
    "\n",
    "Now that we are done treating our data and simplifying our model, we can finally create our linear regression model. Compared to the rest of this notebook, this is probably the simplest part."
   ]
  },
  {
   "cell_type": "code",
   "execution_count": 18,
   "metadata": {},
   "outputs": [
    {
     "name": "stdout",
     "output_type": "stream",
     "text": [
      "The prediction accuracy with the linear regression model is 72.2%\n"
     ]
    }
   ],
   "source": [
    "lin_reg, ctable = model.run_linear_regression(features,lasso01_feats)"
   ]
  },
  {
   "cell_type": "markdown",
   "metadata": {},
   "source": [
    "The expected prediction accuracy for the linear regression model we created is 72.2%. This is a moderately good prediction accuracy. However, we did not chose Linear Regression for its prediction accuracy, but rather for its interpretability. Now we are going to draw insight about our model by interpretting the coefficients of our model.\n",
    "\n",
    "### Linear Regression Interpretation\n",
    "What do I mean by coefficients? The Linear Regression method is defined as such:\n",
    "\n",
    "$\\hat{y} = \\beta_{0}X_{0} + ... + \\beta_{n}X_{n}$, where $\\hat{y}$ is the predicted value, $X_{i}$ is the $i^{th}$ predictor variable, and $\\beta_{i}$ is the coefficient for the $i^{th}$ variable.\n",
    "\n",
    "If we can understand what each $\\beta_{i}$ means, then we can extract some insights about how each predictor variable affects the prediction. The following table shows each variable along with its coefficient."
   ]
  },
  {
   "cell_type": "code",
   "execution_count": 19,
   "metadata": {},
   "outputs": [
    {
     "data": {
      "text/html": [
       "<div>\n",
       "<style scoped>\n",
       "    .dataframe tbody tr th:only-of-type {\n",
       "        vertical-align: middle;\n",
       "    }\n",
       "\n",
       "    .dataframe tbody tr th {\n",
       "        vertical-align: top;\n",
       "    }\n",
       "\n",
       "    .dataframe thead th {\n",
       "        text-align: right;\n",
       "    }\n",
       "</style>\n",
       "<table border=\"1\" class=\"dataframe\">\n",
       "  <thead>\n",
       "    <tr style=\"text-align: right;\">\n",
       "      <th></th>\n",
       "      <th>Coefficients</th>\n",
       "    </tr>\n",
       "  </thead>\n",
       "  <tbody>\n",
       "    <tr>\n",
       "      <th>crim</th>\n",
       "      <td>-1.097766</td>\n",
       "    </tr>\n",
       "    <tr>\n",
       "      <th>zn</th>\n",
       "      <td>1.033705</td>\n",
       "    </tr>\n",
       "    <tr>\n",
       "      <th>nox</th>\n",
       "      <td>-1.838442</td>\n",
       "    </tr>\n",
       "    <tr>\n",
       "      <th>rm</th>\n",
       "      <td>2.538782</td>\n",
       "    </tr>\n",
       "    <tr>\n",
       "      <th>age</th>\n",
       "      <td>-0.490224</td>\n",
       "    </tr>\n",
       "    <tr>\n",
       "      <th>dis</th>\n",
       "      <td>-2.970808</td>\n",
       "    </tr>\n",
       "    <tr>\n",
       "      <th>ptratio</th>\n",
       "      <td>-1.502282</td>\n",
       "    </tr>\n",
       "    <tr>\n",
       "      <th>lstat</th>\n",
       "      <td>-4.209550</td>\n",
       "    </tr>\n",
       "    <tr>\n",
       "      <th>chas</th>\n",
       "      <td>4.156605</td>\n",
       "    </tr>\n",
       "    <tr>\n",
       "      <th>1</th>\n",
       "      <td>-3.837608</td>\n",
       "    </tr>\n",
       "    <tr>\n",
       "      <th>3</th>\n",
       "      <td>1.755164</td>\n",
       "    </tr>\n",
       "    <tr>\n",
       "      <th>4</th>\n",
       "      <td>-1.121471</td>\n",
       "    </tr>\n",
       "    <tr>\n",
       "      <th>6</th>\n",
       "      <td>-3.392725</td>\n",
       "    </tr>\n",
       "    <tr>\n",
       "      <th>8</th>\n",
       "      <td>2.631930</td>\n",
       "    </tr>\n",
       "    <tr>\n",
       "      <th>24</th>\n",
       "      <td>2.626204</td>\n",
       "    </tr>\n",
       "  </tbody>\n",
       "</table>\n",
       "</div>"
      ],
      "text/plain": [
       "         Coefficients\n",
       "crim        -1.097766\n",
       "zn           1.033705\n",
       "nox         -1.838442\n",
       "rm           2.538782\n",
       "age         -0.490224\n",
       "dis         -2.970808\n",
       "ptratio     -1.502282\n",
       "lstat       -4.209550\n",
       "chas         4.156605\n",
       "1           -3.837608\n",
       "3            1.755164\n",
       "4           -1.121471\n",
       "6           -3.392725\n",
       "8            2.631930\n",
       "24           2.626204"
      ]
     },
     "execution_count": 19,
     "metadata": {},
     "output_type": "execute_result"
    }
   ],
   "source": [
    "ctable"
   ]
  },
  {
   "cell_type": "markdown",
   "metadata": {},
   "source": [
    "We have to be aware of the fact that we scaled our predictors because this changes the way that we interpret our coefficients. Normally we would say that an increase of 1 unit of $X_{i}$ is associated with a $\\beta_{i}$ change in $\\hat{y}$. But because we have remapped each $X_{i}$ to $Z_{i}$, in the standard normal distribution, we now have:\n",
    "\n",
    "$Z_{i} = \\frac{X{i}-\\mu_{i}}{\\sigma_{i}}$, where each $X_{i}$ is the original $i^{th}$ variable, $\\mu_{i}$ is the mean/average of the $i^{th}$ variable, and $\\sigma_{i}$ is the standard deviation of the $i^{th}$ variable.\n",
    "\n",
    "Then we will interpret each coefficient as follows: For each $\\sigma_{i}$ increase in $X_{i}$, there is as associated $\\beta_{i}$ change in $\\hat{y}$. In other words, for each standard deviation change of an associated variable, there is a $\\beta_{i}$ change in $\\hat{y}$."
   ]
  },
  {
   "cell_type": "code",
   "execution_count": 20,
   "metadata": {},
   "outputs": [
    {
     "data": {
      "text/html": [
       "<div>\n",
       "<style scoped>\n",
       "    .dataframe tbody tr th:only-of-type {\n",
       "        vertical-align: middle;\n",
       "    }\n",
       "\n",
       "    .dataframe tbody tr th {\n",
       "        vertical-align: top;\n",
       "    }\n",
       "\n",
       "    .dataframe thead th {\n",
       "        text-align: right;\n",
       "    }\n",
       "</style>\n",
       "<table border=\"1\" class=\"dataframe\">\n",
       "  <thead>\n",
       "    <tr style=\"text-align: right;\">\n",
       "      <th></th>\n",
       "      <th>Coefficients</th>\n",
       "      <th>Standard Deviations</th>\n",
       "    </tr>\n",
       "  </thead>\n",
       "  <tbody>\n",
       "    <tr>\n",
       "      <th>crim</th>\n",
       "      <td>-1.097766</td>\n",
       "      <td>7.352272</td>\n",
       "    </tr>\n",
       "    <tr>\n",
       "      <th>zn</th>\n",
       "      <td>1.033705</td>\n",
       "      <td>22.674762</td>\n",
       "    </tr>\n",
       "    <tr>\n",
       "      <th>nox</th>\n",
       "      <td>-1.838442</td>\n",
       "      <td>0.114955</td>\n",
       "    </tr>\n",
       "    <tr>\n",
       "      <th>rm</th>\n",
       "      <td>2.538782</td>\n",
       "      <td>0.703952</td>\n",
       "    </tr>\n",
       "    <tr>\n",
       "      <th>age</th>\n",
       "      <td>-0.490224</td>\n",
       "      <td>28.133344</td>\n",
       "    </tr>\n",
       "    <tr>\n",
       "      <th>dis</th>\n",
       "      <td>-2.970808</td>\n",
       "      <td>1.981123</td>\n",
       "    </tr>\n",
       "    <tr>\n",
       "      <th>ptratio</th>\n",
       "      <td>-1.502282</td>\n",
       "      <td>2.151821</td>\n",
       "    </tr>\n",
       "    <tr>\n",
       "      <th>lstat</th>\n",
       "      <td>-4.209550</td>\n",
       "      <td>7.067781</td>\n",
       "    </tr>\n",
       "    <tr>\n",
       "      <th>chas</th>\n",
       "      <td>4.156605</td>\n",
       "      <td>0.237956</td>\n",
       "    </tr>\n",
       "    <tr>\n",
       "      <th>1</th>\n",
       "      <td>-3.837608</td>\n",
       "      <td>0.200987</td>\n",
       "    </tr>\n",
       "    <tr>\n",
       "      <th>3</th>\n",
       "      <td>1.755164</td>\n",
       "      <td>0.273370</td>\n",
       "    </tr>\n",
       "    <tr>\n",
       "      <th>4</th>\n",
       "      <td>-1.121471</td>\n",
       "      <td>0.408071</td>\n",
       "    </tr>\n",
       "    <tr>\n",
       "      <th>6</th>\n",
       "      <td>-3.392725</td>\n",
       "      <td>0.193979</td>\n",
       "    </tr>\n",
       "    <tr>\n",
       "      <th>8</th>\n",
       "      <td>2.631930</td>\n",
       "      <td>0.226465</td>\n",
       "    </tr>\n",
       "    <tr>\n",
       "      <th>24</th>\n",
       "      <td>2.626204</td>\n",
       "      <td>0.441604</td>\n",
       "    </tr>\n",
       "  </tbody>\n",
       "</table>\n",
       "</div>"
      ],
      "text/plain": [
       "         Coefficients  Standard Deviations\n",
       "crim        -1.097766             7.352272\n",
       "zn           1.033705            22.674762\n",
       "nox         -1.838442             0.114955\n",
       "rm           2.538782             0.703952\n",
       "age         -0.490224            28.133344\n",
       "dis         -2.970808             1.981123\n",
       "ptratio     -1.502282             2.151821\n",
       "lstat       -4.209550             7.067781\n",
       "chas         4.156605             0.237956\n",
       "1           -3.837608             0.200987\n",
       "3            1.755164             0.273370\n",
       "4           -1.121471             0.408071\n",
       "6           -3.392725             0.193979\n",
       "8            2.631930             0.226465\n",
       "24           2.626204             0.441604"
      ]
     },
     "execution_count": 20,
     "metadata": {},
     "output_type": "execute_result"
    }
   ],
   "source": [
    "model.coef_std_table(ctable, df, lasso01_feats, rad_dummies)"
   ]
  },
  {
   "cell_type": "markdown",
   "metadata": {},
   "source": [
    "Let us use \"crim\" as an example. For every 7.352272 increase in the per capita crime rate of a town, there is an associated average/expected decrease of $1097.77 in the median value of homes in that town. This sort of interpretation works on all of the quantitative predictors, however interpretation is different for dummy variables.\n",
    "\n",
    "Our dummy variables in this case are: \"chas\", \"1\", \"3\", \"4\", \"6\", \"8\", and \"24\". Recall that a dummy variable represents whether or not something is true. Then, the standard deviation of a given dummy variable is not a very useful number when interpreting coefficients. We will use \"chas\" as an example. If a given tract is bound by the Charles river, then there is an associated average/expected increase of $4,156.61 in the median value of homes in that area.\n",
    "\n",
    "Once we interpret our coefficients in this manner, we will be able to make inferences on what influence each predictor has on the median value of homes."
   ]
  },
  {
   "cell_type": "markdown",
   "metadata": {},
   "source": [
    "## Future Improvements\n",
    "\n",
    "Although we were able to create a Linear Regression model and interpret it to obtain some insights, there is still room for improvement in this analysis. For instance, while we did handle having mismatched scales, we would also have benefited greatly from transforming our variables further to ensure that our predictors are **normally distributed**. On top of that, we should have been more rigorous in making sure the assumptions of Linear Regression were met. In this case, we should have checked the normality of residuals and correlation between residuals and the target variable."
   ]
  },
  {
   "cell_type": "code",
   "execution_count": null,
   "metadata": {},
   "outputs": [],
   "source": []
  }
 ],
 "metadata": {
  "kernelspec": {
   "display_name": "Python 3",
   "language": "python",
   "name": "python3"
  },
  "language_info": {
   "codemirror_mode": {
    "name": "ipython",
    "version": 3
   },
   "file_extension": ".py",
   "mimetype": "text/x-python",
   "name": "python",
   "nbconvert_exporter": "python",
   "pygments_lexer": "ipython3",
   "version": "3.7.0"
  }
 },
 "nbformat": 4,
 "nbformat_minor": 2
}
